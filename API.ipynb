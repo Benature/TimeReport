{
 "cells": [
  {
   "cell_type": "markdown",
   "metadata": {},
   "source": [
    "###Get access token by OAuth2"
   ]
  },
  {
   "cell_type": "code",
   "execution_count": 10,
   "metadata": {
    "collapsed": false,
    "scrolled": true
   },
   "outputs": [],
   "source": [
    "import requests\n",
    "from requests_oauthlib import OAuth2Session\n",
    "import json\n",
    "import pandas as pd\n",
    "\n",
    "client_id = \"androidClient\"\n",
    "client_secret = \"secret\"\n",
    "lines = [line.rstrip('\\n') for line in open('pass.txt')]\n",
    "username = lines[0]\n",
    "password = lines[1]\n",
    "dev_token = lines[2]\n",
    "\n",
    "authorization_url = \"https://app.atimelogger.com/oauth/token?username={0}&password={1}&grant_type=password\".format(username, password)\n",
    "token = requests.post(authorization_url, auth=(client_id, client_secret))\n",
    "access_token = json.loads(token.text)['access_token']"
   ]
  },
  {
   "cell_type": "markdown",
   "metadata": {},
   "source": [
    "### Reference Dictionary\n",
    "Get a dictionary contain types' **ID, Name, Parent's name** for reference."
   ]
  },
  {
   "cell_type": "code",
   "execution_count": 11,
   "metadata": {
    "collapsed": false,
    "scrolled": false
   },
   "outputs": [],
   "source": [
    "r_type = requests.get(\"https://app.atimelogger.com/api/v2/types\", \n",
    "                 headers = {'Authorization': \"bearer \" + access_token})\n",
    "json_type = json.loads(r_type.text)\n",
    "# for d in json_type['types']:\n",
    "#     if d['parent']:\n",
    "#         d['parent'] = d['parent']['guid']\n",
    "# data = pd.DataFrame(json_type[\"types\"])\n",
    "# types = pd.DataFrame([d for d in json_type['types'] if not d['group']]).ix[:, [4,5,2,6]]\n",
    "# group = pd.DataFrame([d for d in json_type['types'] if d['group']]).ix[:, [4,5,2]]\n",
    "# pd.merge(types, group, left_on = 'parent', right_on = 'guid', how = 'left')\n",
    "\n",
    "dict_group = {d['guid']:d['name'] for d in json_type['types'] if d['group']}\n",
    "dict_type = {}\n",
    "dict_id = {}\n",
    "for d in json_type['types']:\n",
    "    if not d['group']:\n",
    "        parent_name = dict_group[d['parent']['guid']] if d['parent'] != None else None\n",
    "        dict_type[d['guid']] = (d['name'], parent_name)\n",
    "        dict_id[d['name']] = (d['guid'], parent_name)"
   ]
  },
  {
   "cell_type": "markdown",
   "metadata": {},
   "source": [
    "###Helper Function"
   ]
  },
  {
   "cell_type": "code",
   "execution_count": 12,
   "metadata": {
    "collapsed": false
   },
   "outputs": [],
   "source": [
    "from datetime import datetime, date, timedelta\n",
    "def getTime(unixSecond):\n",
    "    \"\"\"\"\n",
    "    unixSecond: unix timestamp\n",
    "    returns: string format of date time for unix timestamp\n",
    "    \"\"\"\n",
    "    return str(datetime.fromtimestamp(unixSecond))\n",
    "\n",
    "def getDelta(duration):\n",
    "    \"\"\"\"\n",
    "    duration: duration in second\n",
    "    returns: string format of duration\n",
    "    \"\"\"\n",
    "    return str(timedelta(seconds = duration)).split('.')[0]\n",
    "\n",
    "def getThisWeek(past = False):\n",
    "    \"\"\"\"\n",
    "    past: whether the week want has past or not, if 'True', get last week\n",
    "    returns: tuple of begin and end of the week in seconds (integer)\n",
    "    \"\"\"\n",
    "    today = date.today()\n",
    "    if(past):\n",
    "        d = timedelta(today.weekday())\n",
    "        end = today - d\n",
    "        begin = end - timedelta(7)\n",
    "    else:\n",
    "        end = today + timedelta(1)\n",
    "        d = timedelta(today.weekday())\n",
    "        begin = today - d\n",
    "    begin_s = int(begin.strftime(\"%s\"))\n",
    "    end_s = int(end.strftime(\"%s\"))\n",
    "    return (begin_s, end_s)"
   ]
  },
  {
   "cell_type": "markdown",
   "metadata": {},
   "source": [
    "### Today's Report\n",
    "Get `today`, `yesterday` as parameters and fetch all intervals of yesterday."
   ]
  },
  {
   "cell_type": "code",
   "execution_count": 14,
   "metadata": {
    "collapsed": false,
    "scrolled": true
   },
   "outputs": [
    {
     "data": {
      "text/html": [
       "<div>\n",
       "<table border=\"1\" class=\"dataframe\">\n",
       "  <thead>\n",
       "    <tr style=\"text-align: right;\">\n",
       "      <th></th>\n",
       "      <th>from</th>\n",
       "      <th>to</th>\n",
       "      <th>type</th>\n",
       "      <th>comment</th>\n",
       "    </tr>\n",
       "  </thead>\n",
       "  <tbody>\n",
       "    <tr>\n",
       "      <th>0</th>\n",
       "      <td>2015-08-16 23:56:39</td>\n",
       "      <td>2015-08-17 08:36:40</td>\n",
       "      <td>(Sleep, Health)</td>\n",
       "      <td></td>\n",
       "    </tr>\n",
       "    <tr>\n",
       "      <th>1</th>\n",
       "      <td>2015-08-16 22:54:56</td>\n",
       "      <td>2015-08-16 23:56:39</td>\n",
       "      <td>(Programming, Learn)</td>\n",
       "      <td>Time analysis</td>\n",
       "    </tr>\n",
       "    <tr>\n",
       "      <th>2</th>\n",
       "      <td>2015-08-16 22:40:12</td>\n",
       "      <td>2015-08-16 22:54:56</td>\n",
       "      <td>(Restroom, Health)</td>\n",
       "      <td></td>\n",
       "    </tr>\n",
       "    <tr>\n",
       "      <th>3</th>\n",
       "      <td>2015-08-16 22:39:13</td>\n",
       "      <td>2015-08-16 22:40:12</td>\n",
       "      <td>(Rest, Health)</td>\n",
       "      <td></td>\n",
       "    </tr>\n",
       "    <tr>\n",
       "      <th>4</th>\n",
       "      <td>2015-08-16 22:07:26</td>\n",
       "      <td>2015-08-16 22:39:13</td>\n",
       "      <td>(Interview, Career)</td>\n",
       "      <td></td>\n",
       "    </tr>\n",
       "    <tr>\n",
       "      <th>5</th>\n",
       "      <td>2015-08-16 22:03:51</td>\n",
       "      <td>2015-08-16 22:07:26</td>\n",
       "      <td>(Meal, Health)</td>\n",
       "      <td></td>\n",
       "    </tr>\n",
       "  </tbody>\n",
       "</table>\n",
       "</div>"
      ],
      "text/plain": [
       "                  from                   to                  type  \\\n",
       "0  2015-08-16 23:56:39  2015-08-17 08:36:40       (Sleep, Health)   \n",
       "1  2015-08-16 22:54:56  2015-08-16 23:56:39  (Programming, Learn)   \n",
       "2  2015-08-16 22:40:12  2015-08-16 22:54:56    (Restroom, Health)   \n",
       "3  2015-08-16 22:39:13  2015-08-16 22:40:12        (Rest, Health)   \n",
       "4  2015-08-16 22:07:26  2015-08-16 22:39:13   (Interview, Career)   \n",
       "5  2015-08-16 22:03:51  2015-08-16 22:07:26        (Meal, Health)   \n",
       "\n",
       "         comment  \n",
       "0                 \n",
       "1  Time analysis  \n",
       "2                 \n",
       "3                 \n",
       "4                 \n",
       "5                 "
      ]
     },
     "execution_count": 14,
     "metadata": {},
     "output_type": "execute_result"
    }
   ],
   "source": [
    "from datetime import datetime, date, timedelta\n",
    "import copy\n",
    "\n",
    "today = date.today()\n",
    "day_delta = timedelta(1)\n",
    "yesterday = today - day_delta\n",
    "## Following method will generate 4-hours difference with actual time\n",
    "# today_s = (today - date(1970,1,1)).total_seconds()\n",
    "# yesterday_s = (yesterday - date(1970,1,1)).total_seconds()\n",
    "today_s = today.strftime(\"%s\")\n",
    "yesterday_s = yesterday.strftime(\"%s\")\n",
    "params = {'from': int(yesterday_s), 'to': int(today_s)}\n",
    "\n",
    "r_today = requests.get(\"https://app.atimelogger.com/api/v2/intervals\", \n",
    "                 params = params, headers = {'Authorization': \"bearer \" + access_token})\n",
    "intervals = json.loads(r_today.text)['intervals']\n",
    "\n",
    "### Test the correctness of time\n",
    "interval_time = copy.deepcopy(intervals)\n",
    "for d in interval_time:\n",
    "    d['from'] = str(datetime.fromtimestamp(d['from']))\n",
    "    d['to'] = str(datetime.fromtimestamp(d['to']))\n",
    "    d['type'] = dict_type[d['type']['guid']]\n",
    "pd.DataFrame(interval_time).ix[:,[2,4,5,1]].head(6)"
   ]
  },
  {
   "cell_type": "markdown",
   "metadata": {},
   "source": [
    "Extract `comment` as task and calculate its time."
   ]
  },
  {
   "cell_type": "code",
   "execution_count": 45,
   "metadata": {
    "collapsed": false,
    "scrolled": true
   },
   "outputs": [
    {
     "data": {
      "text/html": [
       "<div>\n",
       "<table border=\"1\" class=\"dataframe\">\n",
       "  <thead>\n",
       "    <tr style=\"text-align: right;\">\n",
       "      <th></th>\n",
       "      <th>0</th>\n",
       "      <th>1</th>\n",
       "      <th>2</th>\n",
       "      <th>3</th>\n",
       "      <th>4</th>\n",
       "    </tr>\n",
       "  </thead>\n",
       "  <tbody>\n",
       "    <tr>\n",
       "      <th>0</th>\n",
       "      <td>Google analytics</td>\n",
       "      <td>Career</td>\n",
       "      <td>5:05:56</td>\n",
       "      <td>5</td>\n",
       "      <td>1:01:11</td>\n",
       "    </tr>\n",
       "    <tr>\n",
       "      <th>1</th>\n",
       "      <td>Time analysis</td>\n",
       "      <td>Learn</td>\n",
       "      <td>6:25:32</td>\n",
       "      <td>6</td>\n",
       "      <td>1:04:15</td>\n",
       "    </tr>\n",
       "    <tr>\n",
       "      <th>2</th>\n",
       "      <td>Regular Expressions</td>\n",
       "      <td>Learn</td>\n",
       "      <td>0:01:14</td>\n",
       "      <td>1</td>\n",
       "      <td>0:01:14</td>\n",
       "    </tr>\n",
       "  </tbody>\n",
       "</table>\n",
       "</div>"
      ],
      "text/plain": [
       "                     0       1        2  3        4\n",
       "0     Google analytics  Career  5:05:56  5  1:01:11\n",
       "1        Time analysis   Learn  6:25:32  6  1:04:15\n",
       "2  Regular Expressions   Learn  0:01:14  1  0:01:14"
      ]
     },
     "execution_count": 45,
     "metadata": {},
     "output_type": "execute_result"
    }
   ],
   "source": [
    "from collections import defaultdict\n",
    "\n",
    "task = defaultdict(dict)\n",
    "for d in intervals:\n",
    "    if d['comment']:\n",
    "        task[d['comment']]['Group'] = dict_type[d['type']['guid']][1]\n",
    "        if \"Time\" in task[d['comment']].keys():\n",
    "            task[d['comment']]['Time'] += (d['to'] - d['from'])\n",
    "            task[d['comment']]['N'] += 1\n",
    "        else:\n",
    "            task[d['comment']]['Time'] = (d['to'] - d['from'])\n",
    "            task[d['comment']]['N'] = 1\n",
    "\n",
    "# task_df = []\n",
    "# for k, v in task.items():\n",
    "#     task_df.append(dict(Task = k, Group = v['Group'], \n",
    "#                           Time = getDelta(v['Time']),\n",
    "#                           N = v['N'],\n",
    "#                          Avg = getDelta(v['Time']/v['N'])))\n",
    "# pd.DataFrame(task_df)\n",
    "\n",
    "task_list = []\n",
    "for k, v in task.items():\n",
    "    task_list.append([k, v['Group'], getDelta(v['Time']), str(v['N']), getDelta(v['Time']/v['N'])])\n",
    "pd.DataFrame(task_list)"
   ]
  },
  {
   "cell_type": "code",
   "execution_count": 18,
   "metadata": {
    "collapsed": false,
    "scrolled": true
   },
   "outputs": [
    {
     "name": "stdout",
     "output_type": "stream",
     "text": [
      "Sleep:  ['2015-08-15 00:25:22', '2015-08-15 08:58:40', '8:33:18']\n",
      "Total Rest Time:  0:15:14\n",
      "Total Mean Time:  2:49:11\n"
     ]
    }
   ],
   "source": [
    "import numpy as np\n",
    "sleep_id = dict_id['Sleep'][0]\n",
    "rest_id = dict_id['Rest'][0]\n",
    "meal_id = dict_id[\"Meal\"][0]\n",
    "rest = np.array([])\n",
    "meal = np.array([])\n",
    "for d in intervals:\n",
    "    if d['type']['guid'] == sleep_id:\n",
    "        sleep = [getTime(d['from']), \n",
    "                 getTime(d['to']),\n",
    "                 getDelta(d['to'] - d['from'])]\n",
    "    elif d['type']['guid'] == rest_id:\n",
    "        rest = np.append(rest, d['to'] - d['from'])\n",
    "    elif d['type']['guid'] == meal_id:\n",
    "        meal = np.append(meal, d['to'] - d['from'])\n",
    "print \"Sleep: \", sleep\n",
    "print \"Total Rest Time: \", getDelta(rest.sum())\n",
    "print \"Total Meal Time: \", getDelta(meal.sum())"
   ]
  },
  {
   "cell_type": "markdown",
   "metadata": {},
   "source": [
    "### Import Evernote and find template"
   ]
  },
  {
   "cell_type": "code",
   "execution_count": 3,
   "metadata": {
    "collapsed": true
   },
   "outputs": [],
   "source": [
    "from evernote.api.client import EvernoteClient\n",
    "client = EvernoteClient(token=dev_token, sandbox=False)\n",
    "noteStore = client.get_note_store()\n",
    "\n",
    "## search diary template\n",
    "from evernote.edam.notestore.ttypes import NoteFilter, NotesMetadataResultSpec\n",
    "noteStore = client.get_note_store()\n",
    "search = NoteFilter()\n",
    "search.words = \"Daily Review Template\"\n",
    "search.ascending = False\n",
    "\n",
    "spec = NotesMetadataResultSpec()\n",
    "spec.includeTitle = True\n",
    "\n",
    "ourNoteList = noteStore.findNotesMetadata(dev_token, search, 0, 100, spec)\n",
    "template = noteStore.getNoteContent(dev_token, ourNoteList.notes[0].guid)\n",
    "\n",
    "## get Diary notebook guid\n",
    "notebooks = noteStore.listNotebooks()\n",
    "for n in notebooks:\n",
    "    if(n.name == 'Diary'):\n",
    "        diary_notebook = n.guid"
   ]
  },
  {
   "cell_type": "markdown",
   "metadata": {},
   "source": [
    "### Build diary"
   ]
  },
  {
   "cell_type": "code",
   "execution_count": 67,
   "metadata": {
    "collapsed": false
   },
   "outputs": [],
   "source": [
    "start = template.find(\"<tr>\", template.find(\"<tr>\") + 1)\n",
    "end = template.find(\"</tr>\", template.find(\"</tr>\") + 1)\n",
    "row_template = template[start:end+len(\"</tr>\")]\n",
    "\n",
    "rows = \"\"\n",
    "for task in task_list:\n",
    "    row = row_template\n",
    "    for item in task:\n",
    "        row = row.replace('<br/>', item, 1)\n",
    "    rows += row\n",
    "rows\n",
    "diary = template[:start] + str(rows) + template[end+len('</tr>'):]\n",
    "title = str(yesterday).replace(\"-\", \"\")"
   ]
  },
  {
   "cell_type": "markdown",
   "metadata": {},
   "source": [
    "###Create note"
   ]
  },
  {
   "cell_type": "code",
   "execution_count": 68,
   "metadata": {
    "collapsed": false
   },
   "outputs": [],
   "source": [
    "import evernote.edam.type.ttypes as Types\n",
    "note = Types.Note()\n",
    "note.title = title\n",
    "note.content = diary\n",
    "note.notebookGuid = diary_notebook\n",
    "note = noteStore.createNote(note)"
   ]
  },
  {
   "cell_type": "markdown",
   "metadata": {},
   "source": [
    "### Get access token by basic authorization"
   ]
  },
  {
   "cell_type": "code",
   "execution_count": null,
   "metadata": {
    "collapsed": true
   },
   "outputs": [],
   "source": [
    "from requests.auth import HTTPBasicAuth\n",
    "import time\n",
    "\n",
    "# r = requests.get('https://app.atimelogger.com', auth=HTTPBasicAuth(username, password))\n",
    "today = datetime.date.today()\n",
    "day_delta = datetime.timedelta(1)\n",
    "yesterday = today - day_delta\n",
    "today_s = (today - datetime.date(1970,1,1)).total_seconds()\n",
    "print today_s\n",
    "yesterday_s = (yesterday - datetime.date(1970,1,1)).total_seconds()\n",
    "data = {'from': int(yesterday_s), 'to': int(today_s)}\n",
    "r = requests.get(\"https://app.atimelogger.com/api/v2/intervals\", params = data, auth=HTTPBasicAuth(username, password))\n",
    "print(json.dumps(json.loads(r.text), indent=2))\n",
    "# print int(time.time())\n",
    "# print time.gmtime()"
   ]
  }
 ],
 "metadata": {
  "kernelspec": {
   "display_name": "Python 2",
   "language": "python",
   "name": "python2"
  },
  "language_info": {
   "codemirror_mode": {
    "name": "ipython",
    "version": 2
   },
   "file_extension": ".py",
   "mimetype": "text/x-python",
   "name": "python",
   "nbconvert_exporter": "python",
   "pygments_lexer": "ipython2",
   "version": "2.7.10"
  }
 },
 "nbformat": 4,
 "nbformat_minor": 0
}
