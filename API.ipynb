{
 "cells": [
  {
   "cell_type": "markdown",
   "metadata": {},
   "source": [
    "###Get access token by OAuth2"
   ]
  },
  {
   "cell_type": "code",
   "execution_count": 233,
   "metadata": {
    "collapsed": false,
    "scrolled": true
   },
   "outputs": [],
   "source": [
    "import requests\n",
    "from requests_oauthlib import OAuth2Session\n",
    "import json\n",
    "import pandas as pd\n",
    "\n",
    "client_id = \"androidClient\"\n",
    "client_secret = \"secret\"\n",
    "username = \"username\"\n",
    "password = \"password\"\n",
    "\n",
    "authorization_url = \"https://app.atimelogger.com/oauth/token?username={0}&password={1}&grant_type=password\".format(username, password)\n",
    "token = requests.post(authorization_url, auth=(client_id, client_secret))\n",
    "access_token = json.loads(token.text)['access_token']"
   ]
  },
  {
   "cell_type": "markdown",
   "metadata": {},
   "source": [
    "### Reference Dictionary\n",
    "Get a dictionary contain types' **ID, Name, Parent's name** for reference."
   ]
  },
  {
   "cell_type": "code",
   "execution_count": 234,
   "metadata": {
    "collapsed": false,
    "scrolled": false
   },
   "outputs": [],
   "source": [
    "r_type = requests.get(\"https://app.atimelogger.com/api/v2/types\", \n",
    "                 headers = {'Authorization': \"bearer \" + access_token})\n",
    "json_type = json.loads(r_type.text)\n",
    "# for d in json_type['types']:\n",
    "#     if d['parent']:\n",
    "#         d['parent'] = d['parent']['guid']\n",
    "# data = pd.DataFrame(json_type[\"types\"])\n",
    "# types = pd.DataFrame([d for d in json_type['types'] if not d['group']]).ix[:, [4,5,2,6]]\n",
    "# group = pd.DataFrame([d for d in json_type['types'] if d['group']]).ix[:, [4,5,2]]\n",
    "# pd.merge(types, group, left_on = 'parent', right_on = 'guid', how = 'left')\n",
    "\n",
    "dict_group = {d['guid']:d['name'] for d in json_type['types'] if d['group']}\n",
    "dict_type = {}\n",
    "dict_id = {}\n",
    "for d in json_type['types']:\n",
    "    if not d['group']:\n",
    "        parent_name = dict_group[d['parent']['guid']] if d['parent'] != None else None\n",
    "        dict_type[d['guid']] = (d['name'], parent_name)\n",
    "        dict_id[d['name']] = (d['guid'], parent_name)"
   ]
  },
  {
   "cell_type": "markdown",
   "metadata": {},
   "source": [
    "###Helper Function"
   ]
  },
  {
   "cell_type": "code",
   "execution_count": 235,
   "metadata": {
    "collapsed": true
   },
   "outputs": [],
   "source": [
    "def getTime(unixSecond):\n",
    "    \"\"\"\"\n",
    "    unixSecond: unix timestamp\n",
    "    returns: string format of date time for unix timestamp\n",
    "    \"\"\"\n",
    "    return str(datetime.fromtimestamp(unixSecond))\n",
    "\n",
    "def getDelta(duration):\n",
    "    \"\"\"\"\n",
    "    duration: duration in second\n",
    "    returns: string format of duration\n",
    "    \"\"\"\n",
    "    return str(timedelta(seconds = duration)).split('.')[0]"
   ]
  },
  {
   "cell_type": "markdown",
   "metadata": {},
   "source": [
    "### Today's Report\n",
    "Get `today`, `yesterday` as parameters and fetch all intervals of yesterday."
   ]
  },
  {
   "cell_type": "code",
   "execution_count": 250,
   "metadata": {
    "collapsed": false
   },
   "outputs": [
    {
     "data": {
      "text/html": [
       "<div>\n",
       "<table border=\"1\" class=\"dataframe\">\n",
       "  <thead>\n",
       "    <tr style=\"text-align: right;\">\n",
       "      <th></th>\n",
       "      <th>from</th>\n",
       "      <th>to</th>\n",
       "      <th>type</th>\n",
       "      <th>comment</th>\n",
       "    </tr>\n",
       "  </thead>\n",
       "  <tbody>\n",
       "    <tr>\n",
       "      <th>0</th>\n",
       "      <td>2015-07-16 22:06:39</td>\n",
       "      <td>2015-07-16 23:40:41</td>\n",
       "      <td>(House, Wealth)</td>\n",
       "      <td>Comcast inquiry</td>\n",
       "    </tr>\n",
       "    <tr>\n",
       "      <th>1</th>\n",
       "      <td>2015-07-16 22:01:52</td>\n",
       "      <td>2015-07-16 22:06:39</td>\n",
       "      <td>(Rest, Health)</td>\n",
       "      <td></td>\n",
       "    </tr>\n",
       "    <tr>\n",
       "      <th>2</th>\n",
       "      <td>2015-07-16 20:53:16</td>\n",
       "      <td>2015-07-16 22:01:52</td>\n",
       "      <td>(House, Wealth)</td>\n",
       "      <td>Comcast inquiry</td>\n",
       "    </tr>\n",
       "    <tr>\n",
       "      <th>3</th>\n",
       "      <td>2015-07-16 20:37:53</td>\n",
       "      <td>2015-07-16 20:53:16</td>\n",
       "      <td>(Bill, Wealth)</td>\n",
       "      <td></td>\n",
       "    </tr>\n",
       "    <tr>\n",
       "      <th>4</th>\n",
       "      <td>2015-07-16 20:18:29</td>\n",
       "      <td>2015-07-16 20:37:53</td>\n",
       "      <td>(Talk Love, Family)</td>\n",
       "      <td></td>\n",
       "    </tr>\n",
       "    <tr>\n",
       "      <th>5</th>\n",
       "      <td>2015-07-16 20:13:26</td>\n",
       "      <td>2015-07-16 20:18:29</td>\n",
       "      <td>(Transport, None)</td>\n",
       "      <td></td>\n",
       "    </tr>\n",
       "  </tbody>\n",
       "</table>\n",
       "</div>"
      ],
      "text/plain": [
       "                  from                   to                 type  \\\n",
       "0  2015-07-16 22:06:39  2015-07-16 23:40:41      (House, Wealth)   \n",
       "1  2015-07-16 22:01:52  2015-07-16 22:06:39       (Rest, Health)   \n",
       "2  2015-07-16 20:53:16  2015-07-16 22:01:52      (House, Wealth)   \n",
       "3  2015-07-16 20:37:53  2015-07-16 20:53:16       (Bill, Wealth)   \n",
       "4  2015-07-16 20:18:29  2015-07-16 20:37:53  (Talk Love, Family)   \n",
       "5  2015-07-16 20:13:26  2015-07-16 20:18:29    (Transport, None)   \n",
       "\n",
       "           comment  \n",
       "0  Comcast inquiry  \n",
       "1                   \n",
       "2  Comcast inquiry  \n",
       "3                   \n",
       "4                   \n",
       "5                   "
      ]
     },
     "execution_count": 250,
     "metadata": {},
     "output_type": "execute_result"
    }
   ],
   "source": [
    "from datetime import datetime, date, timedelta\n",
    "import copy\n",
    "\n",
    "today = date.today()\n",
    "day_delta = timedelta(1)\n",
    "yesterday = today - day_delta\n",
    "## Following method will generate 4-hours difference with actual time\n",
    "# today_s = (today - date(1970,1,1)).total_seconds()\n",
    "# yesterday_s = (yesterday - date(1970,1,1)).total_seconds()\n",
    "today_s = today.strftime(\"%s\")\n",
    "yesterday_s = yesterday.strftime(\"%s\")\n",
    "params = {'from': int(yesterday_s), 'to': int(today_s)}\n",
    "\n",
    "r_today = requests.get(\"https://app.atimelogger.com/api/v2/intervals\", \n",
    "                 params = params, headers = {'Authorization': \"bearer \" + access_token})\n",
    "intervals = json.loads(r_today.text)['intervals']\n",
    "\n",
    "### Test the correctness of time\n",
    "interval_time = copy.deepcopy(intervals)\n",
    "for d in interval_time:\n",
    "    d['from'] = str(datetime.fromtimestamp(d['from']))\n",
    "    d['to'] = str(datetime.fromtimestamp(d['to']))\n",
    "    d['type'] = dict_type[d['type']['guid']]\n",
    "pd.DataFrame(interval_time).ix[:,[2,4,5,1]].head(6)"
   ]
  },
  {
   "cell_type": "markdown",
   "metadata": {},
   "source": [
    "Extract `comment` as task and calculate its time."
   ]
  },
  {
   "cell_type": "code",
   "execution_count": 241,
   "metadata": {
    "collapsed": false,
    "scrolled": true
   },
   "outputs": [
    {
     "data": {
      "text/html": [
       "<div>\n",
       "<table border=\"1\" class=\"dataframe\">\n",
       "  <thead>\n",
       "    <tr style=\"text-align: right;\">\n",
       "      <th></th>\n",
       "      <th>Group</th>\n",
       "      <th>Task</th>\n",
       "      <th>Time</th>\n",
       "    </tr>\n",
       "  </thead>\n",
       "  <tbody>\n",
       "    <tr>\n",
       "      <th>0</th>\n",
       "      <td>Learn</td>\n",
       "      <td>Atimelogger API today's task table</td>\n",
       "      <td>0:50:36</td>\n",
       "    </tr>\n",
       "    <tr>\n",
       "      <th>1</th>\n",
       "      <td>Wealth</td>\n",
       "      <td>Comcast inquiry</td>\n",
       "      <td>2:42:38</td>\n",
       "    </tr>\n",
       "    <tr>\n",
       "      <th>2</th>\n",
       "      <td>Wealth</td>\n",
       "      <td>Select and buy modem router</td>\n",
       "      <td>1:37:49</td>\n",
       "    </tr>\n",
       "  </tbody>\n",
       "</table>\n",
       "</div>"
      ],
      "text/plain": [
       "    Group                                Task     Time\n",
       "0   Learn  Atimelogger API today's task table  0:50:36\n",
       "1  Wealth                     Comcast inquiry  2:42:38\n",
       "2  Wealth         Select and buy modem router  1:37:49"
      ]
     },
     "execution_count": 241,
     "metadata": {},
     "output_type": "execute_result"
    }
   ],
   "source": [
    "from collections import defaultdict\n",
    "\n",
    "task = defaultdict(dict)\n",
    "for d in intervals:\n",
    "    if d['comment']:\n",
    "        task[d['comment']]['Group'] = dict_type[d['type']['guid']][1]\n",
    "        if \"Time\" in task[d['comment']].keys():\n",
    "            task[d['comment']]['Time'] += (d['to'] - d['from'])\n",
    "        else:\n",
    "            task[d['comment']]['Time'] = (d['to'] - d['from'])\n",
    "\n",
    "task_list = []\n",
    "for k, v in task.items():\n",
    "    task_list.append(dict(Task = k, Group = v['Group'], \n",
    "                          Time = getDelta(v['Time'])))\n",
    "pd.DataFrame(task_list)"
   ]
  },
  {
   "cell_type": "code",
   "execution_count": 248,
   "metadata": {
    "collapsed": false
   },
   "outputs": [
    {
     "name": "stdout",
     "output_type": "stream",
     "text": [
      "Sleep:  ['2015-07-16 01:02:28', '2015-07-16 09:13:39', '8:11:11']\n",
      "Total Rest Time:  0:31:54\n",
      "Total Mean Time:  1:19:47\n"
     ]
    }
   ],
   "source": [
    "import numpy as np\n",
    "sleep_id = dict_id['Sleep'][0]\n",
    "rest_id = dict_id['Rest'][0]\n",
    "meal_id = dict_id[\"Meal\"][0]\n",
    "rest = np.array([])\n",
    "meal = np.array([])\n",
    "for d in intervals:\n",
    "    if d['type']['guid'] == sleep_id:\n",
    "        sleep = [getTime(d['from']), \n",
    "                 getTime(d['to']),\n",
    "                 getDelta(d['to'] - d['from'])]\n",
    "    elif d['type']['guid'] == rest_id:\n",
    "        rest = np.append(rest, d['to'] - d['from'])\n",
    "    elif d['type']['guid'] == meal_id:\n",
    "        meal = np.append(meal, d['to'] - d['from'])\n",
    "print \"Sleep: \", sleep\n",
    "print \"Total Rest Time: \", getDelta(rest.sum())\n",
    "print \"Total Mean Time: \", getDelta(meal.sum())"
   ]
  },
  {
   "cell_type": "markdown",
   "metadata": {},
   "source": [
    "### Get access token by basic authorization"
   ]
  },
  {
   "cell_type": "code",
   "execution_count": null,
   "metadata": {
    "collapsed": true
   },
   "outputs": [],
   "source": [
    "from requests.auth import HTTPBasicAuth\n",
    "import time\n",
    "\n",
    "# r = requests.get('https://app.atimelogger.com', auth=HTTPBasicAuth(username, password))\n",
    "today = datetime.date.today()\n",
    "day_delta = datetime.timedelta(1)\n",
    "yesterday = today - day_delta\n",
    "today_s = (today - datetime.date(1970,1,1)).total_seconds()\n",
    "print today_s\n",
    "yesterday_s = (yesterday - datetime.date(1970,1,1)).total_seconds()\n",
    "data = {'from': int(yesterday_s), 'to': int(today_s)}\n",
    "r = requests.get(\"https://app.atimelogger.com/api/v2/intervals\", params = data, auth=HTTPBasicAuth(username, password))\n",
    "print(json.dumps(json.loads(r.text), indent=2))\n",
    "# print int(time.time())\n",
    "# print time.gmtime()"
   ]
  }
 ],
 "metadata": {
  "kernelspec": {
   "display_name": "Python 2",
   "language": "python",
   "name": "python2"
  },
  "language_info": {
   "codemirror_mode": {
    "name": "ipython",
    "version": 2
   },
   "file_extension": ".py",
   "mimetype": "text/x-python",
   "name": "python",
   "nbconvert_exporter": "python",
   "pygments_lexer": "ipython2",
   "version": "2.7.10"
  }
 },
 "nbformat": 4,
 "nbformat_minor": 0
}
